{
 "cells": [
  {
   "cell_type": "code",
   "execution_count": null,
   "id": "8ccd7107",
   "metadata": {},
   "outputs": [],
   "source": [
    "#pip install selenium"
   ]
  },
  {
   "cell_type": "code",
   "execution_count": 129,
   "id": "d3e98a19",
   "metadata": {},
   "outputs": [],
   "source": [
    "# Youtube details scrapping \n",
    "from selenium import webdriver\n",
    "import time\n",
    "import pandas as pd\n",
    "\n",
    "driver = webdriver.Chrome(executable_path='chromedriver')\n",
    "url = 'https://www.youtube.com/c/3blue1brown/videos'\n",
    "driver.get(url)\n",
    "\n",
    "SCROLL_PAUSE_TIME = 3\n",
    "\n",
    "# Get scroll height\n",
    "last_height = driver.execute_script(\"return document.documentElement.scrollHeight\")\n",
    "\n",
    "while True:\n",
    "    # Scroll down to bottom\n",
    "    driver.execute_script(\"window.scrollTo(0, arguments[0]);\", last_height)\n",
    "    # Wait to load page\n",
    "    time.sleep(SCROLL_PAUSE_TIME)\n",
    "    \n",
    "\n",
    "    # Calculate new scroll height and compare with last scroll height\n",
    "    new_height = driver.execute_script(\"return document.documentElement.scrollHeight\")\n",
    "    if new_height == last_height:\n",
    "        break\n",
    "    last_height = new_height\n",
    "    \n",
    "titles = driver.find_elements(By.ID, \"video-title\")\n",
    "views = driver.find_elements(By.XPATH,'//*[@id=\"metadata-line\"]/span[1]')\n",
    "images = driver.find_elements(By.XPATH,'//*[@id=\"dismissible\"]/ytd-thumbnail/a/yt-img-shadow/img')\n",
    "data = []\n",
    "for i, j, k in zip(titles, views, images ):\n",
    "    data.append([i.text, j.text, k.get_attribute('src')])\n",
    "# Create the pandas DataFrame\n",
    "df = pd.DataFrame(data, columns = ['Title', 'views', 'Thumbnail'])\n",
    "df.to_csv('youtube_videos_details.csv')\n",
    "\n",
    "driver.quit()"
   ]
  }
 ],
 "metadata": {
  "kernelspec": {
   "display_name": "Python 3 (ipykernel)",
   "language": "python",
   "name": "python3"
  },
  "language_info": {
   "codemirror_mode": {
    "name": "ipython",
    "version": 3
   },
   "file_extension": ".py",
   "mimetype": "text/x-python",
   "name": "python",
   "nbconvert_exporter": "python",
   "pygments_lexer": "ipython3",
   "version": "3.7.11"
  }
 },
 "nbformat": 4,
 "nbformat_minor": 5
}
